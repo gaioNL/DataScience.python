{
 "cells": [
  {
   "cell_type": "code",
   "execution_count": 5,
   "metadata": {},
   "outputs": [
    {
     "name": "stdout",
     "output_type": "stream",
     "text": [
      "Graph X readings: range(-21, 21)\n",
      "Graph Y readings: [7.582560422162385e-10, 2.0611536181902037e-09, 5.602796406145941e-09, 1.522997951276035e-08, 4.1399375473943306e-08, 1.12535162055095e-07, 3.059022269256247e-07, 8.315280276641321e-07, 2.2603242979035746e-06, 6.144174602214718e-06, 1.670142184809518e-05, 4.5397868702434395e-05, 0.00012339457598623172, 0.0003353501304664781, 0.0009110511944006454, 0.0024726231566347743, 0.0066928509242848554, 0.01798620996209156, 0.04742587317756678, 0.11920292202211755, 0.2689414213699951, 0.5, 0.7310585786300049, 0.8807970779778823, 0.9525741268224334, 0.9820137900379085, 0.9933071490757153, 0.9975273768433653, 0.9990889488055994, 0.9996646498695336, 0.9998766054240137, 0.9999546021312976, 0.999983298578152, 0.9999938558253978, 0.999997739675702, 0.9999991684719722, 0.999999694097773, 0.9999998874648379, 0.9999999586006244, 0.9999999847700205, 0.9999999943972036, 0.9999999979388463]\n"
     ]
    },
    {
     "data": {
      "image/png": "[encoded data removed]",
      "text/plain": [
       "<matplotlib.figure.Figure at 0x269f9355b00>"
      ]
     },
     "metadata": {},
     "output_type": "display_data"
    }
   ],
   "source": [
    "import numpy as np\n",
    "import matplotlib.pyplot as plt\n",
    "\n",
    "def sigmoid(inputs):\n",
    "    \"\"\"\n",
    "    Calculate the sigmoid for the give inputs (array)\n",
    "    :param inputs:\n",
    "    :return:\n",
    "    \"\"\"\n",
    "    sigmoid_scores = [1 / float(1 + np.exp(- x)) for x in inputs]\n",
    "    return sigmoid_scores\n",
    "\n",
    "def line_graph(x, y, x_title, y_title):\n",
    "    \"\"\"\n",
    "    Draw line graph with x and y values\n",
    "    :param x:\n",
    "    :param y:\n",
    "    :param x_title:\n",
    "    :param y_title:\n",
    "    :return:\n",
    "    \"\"\"\n",
    "    plt.plot(x, y)\n",
    "    plt.xlabel(x_title)\n",
    "    plt.ylabel(y_title)\n",
    "    plt.show()\n",
    "\n",
    "graph_x = range(-21, 21)\n",
    "graph_y = sigmoid(graph_x)\n",
    "print (\"Graph X readings: {}\".format(graph_x))\n",
    "print (\"Graph Y readings: {}\".format(graph_y))\n",
    "line_graph(graph_x, graph_y, \"Inputs\", \"Sigmoid Scores\")"
   ]
  },
  {
   "cell_type": "code",
   "execution_count": 7,
   "metadata": {},
   "outputs": [
    {
     "name": "stdout",
     "output_type": "stream",
     "text": [
      "Graph X readings: range(-21, 21)\n",
      "Graph Y readings: [  9.87929963e-19   2.68547207e-18   7.29986992e-18   1.98431037e-17\n",
      "   5.39391483e-17   1.46621807e-16   3.98559393e-16   1.08339676e-15\n",
      "   2.94497771e-15   8.00527940e-15   2.17606055e-14   5.91514586e-14\n",
      "   1.60790335e-13   4.37073446e-13   1.18808881e-12   3.22956021e-12\n",
      "   8.77885484e-12   2.38634016e-11   6.48674509e-11   1.76328013e-10\n",
      "   4.79309234e-10   1.30289758e-09   3.54164282e-09   9.62718331e-09\n",
      "   2.61693974e-08   7.11357975e-08   1.93367146e-07   5.25626399e-07\n",
      "   1.42880069e-06   3.88388295e-06   1.05574884e-05   2.86982290e-05\n",
      "   7.80098743e-05   2.12052824e-04   5.76419338e-04   1.56687021e-03\n",
      "   4.25919482e-03   1.15776919e-02   3.14714295e-02   8.55482149e-02\n",
      "   2.32544158e-01   6.32120559e-01]\n"
     ]
    },
    {
     "data": {
      "image/png": "[encoded data removed]",
      "text/plain": [
       "<matplotlib.figure.Figure at 0x269f938dfd0>"
      ]
     },
     "metadata": {},
     "output_type": "display_data"
    }
   ],
   "source": [
    "def softmax(inputs):\n",
    "    \"\"\"\n",
    "    Calculate the softmax for the give inputs (array)\n",
    "    :param inputs:\n",
    "    :return:\n",
    "    \"\"\"\n",
    "    return np.exp(inputs) / float(sum(np.exp(inputs)))\n",
    "\n",
    "\n",
    "def line_graph(x, y, x_title, y_title):\n",
    "    \"\"\"\n",
    "    Draw line graph with x and y values\n",
    "    :param x:\n",
    "    :param y:\n",
    "    :param x_title:\n",
    "    :param y_title:\n",
    "    :return:\n",
    "    \"\"\"\n",
    "    plt.plot(x, y)\n",
    "    plt.xlabel(x_title)\n",
    "    plt.ylabel(y_title)\n",
    "    plt.show()\n",
    "\n",
    "\n",
    "graph_x = range(-21, 21)\n",
    "graph_y = softmax(graph_x)\n",
    "\n",
    "print (\"Graph X readings: {}\".format(graph_x))\n",
    "print (\"Graph Y readings: {}\".format(graph_y))\n",
    "\n",
    "line_graph(graph_x, graph_y, \"Inputs\", \"Softmax Scores\")"
   ]
  },
  {
   "cell_type": "code",
   "execution_count": null,
   "metadata": {
    "collapsed": true
   },
   "outputs": [],
   "source": []
  }
 ],
 "metadata": {
  "kernelspec": {
   "display_name": "Python 3",
   "language": "python",
   "name": "python3"
  },
  "language_info": {
   "codemirror_mode": {
    "name": "ipython",
    "version": 3
   },
   "file_extension": ".py",
   "mimetype": "text/x-python",
   "name": "python",
   "nbconvert_exporter": "python",
   "pygments_lexer": "ipython3",
   "version": "3.6.3"
  }
 },
 "nbformat": 4,
 "nbformat_minor": 2
}
